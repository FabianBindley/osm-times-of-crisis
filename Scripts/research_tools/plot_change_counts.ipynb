{
 "cells": [
  {
   "cell_type": "code",
   "execution_count": null,
   "metadata": {},
   "outputs": [
    {
     "ename": "ModuleNotFoundError",
     "evalue": "No module named 'database'",
     "output_type": "error",
     "traceback": [
      "\u001b[0;31m---------------------------------------------------------------------------\u001b[0m",
      "\u001b[0;31mModuleNotFoundError\u001b[0m                       Traceback (most recent call last)",
      "Cell \u001b[0;32mIn[6], line 7\u001b[0m\n\u001b[1;32m      4\u001b[0m \u001b[38;5;28;01mimport\u001b[39;00m \u001b[38;5;21;01msys\u001b[39;00m\n\u001b[1;32m      5\u001b[0m \u001b[38;5;28;01mimport\u001b[39;00m \u001b[38;5;21;01mos\u001b[39;00m\n\u001b[0;32m----> 7\u001b[0m \u001b[38;5;28;01mfrom\u001b[39;00m \u001b[38;5;21;01mdatabase\u001b[39;00m\u001b[38;5;21;01m.\u001b[39;00m\u001b[38;5;21;01mdb_utils\u001b[39;00m \u001b[38;5;28;01mimport\u001b[39;00m DB_Utils\n\u001b[1;32m      9\u001b[0m \u001b[38;5;28;01mdef\u001b[39;00m \u001b[38;5;21mget_disaster_with_id\u001b[39m(disaster_id, connection):\n\u001b[1;32m     10\u001b[0m     disaster \u001b[38;5;241m=\u001b[39m db_utils\u001b[38;5;241m.\u001b[39mget_disaster_with_id(disaster_id, connection)\n",
      "\u001b[0;31mModuleNotFoundError\u001b[0m: No module named 'database'"
     ]
    }
   ],
   "source": [
    "import matplotlib.pyplot as plt\n",
    "import pandas as pd\n",
    "from datetime import datetime\n",
    "import sys\n",
    "import os\n",
    "\n",
    "sys.path.append(os.path.abspath(os.path.join(os.path.dirname(__file__), '..', 'database')))\n",
    "from db_utils import DB_Utils\n",
    "\n",
    "def get_disaster_with_id(disaster_id, connection):\n",
    "    disaster = db_utils.get_disaster_with_id(disaster_id, connection)\n",
    "\n",
    "    return disaster[1][0], disaster[2][0], disaster[4]\n",
    "\n",
    "def plot_counts(diaster_id, country_name, place_name):\n",
    "    # Convert start_date to a datetime format for accurate plotting\n",
    "    data_day = pd.read_csv(f'../../Results/ChangeCounting/data/change_count_{disaster_id}_day.csv')\n",
    "    data_week = pd.read_csv(f'../../Results/ChangeCounting/data/change_count_{disaster_id}_week.csv')\n",
    "    data_month = pd.read_csv(f'../../Results/ChangeCounting/data/change_count_{disaster_id}_month.csv')\n",
    "\n",
    "    # Create a figure with 3 subplots\n",
    "    fig, axes = plt.subplots(3, 1, figsize=(12, 15), sharex=True)\n",
    "\n",
    "    # Plot daily data\n",
    "    axes[0].plot(data_day['start_date'], data_day['creates'], label='Creates', marker='.', linestyle='-')\n",
    "    axes[0].plot(data_day['start_date'], data_day['edits'], label='Edits', marker='.', linestyle='-')\n",
    "    axes[0].plot(data_day['start_date'], data_day['deletes'], label='Deletes', marker='.', linestyle='-')\n",
    "    axes[0].plot(data_day['start_date'], data_day['total'], label='Total', marker='.', linestyle='-')\n",
    "    axes[0].set_title(f'Daily Changes in {country_name}, {place_name}')\n",
    "    axes[0].set_ylabel('Count')\n",
    "    axes[0].legend()\n",
    "    axes[0].grid(True)\n",
    "\n",
    "    # Plot weekly data\n",
    "    axes[1].plot(data_week['start_date'], data_week['creates'], label='Creates', marker='.', linestyle='-')\n",
    "    axes[1].plot(data_week['start_date'], data_week['edits'], label='Edits', marker='.', linestyle='-')\n",
    "    axes[1].plot(data_week['start_date'], data_week['deletes'], label='Deletes', marker='.', linestyle='-')\n",
    "    axes[1].plot(data_week['start_date'], data_week['total'], label='Total', marker='.', linestyle='-')\n",
    "    axes[1].set_title(f'Weekly Changes in {country_name}, {place_name}')\n",
    "    axes[1].set_ylabel('Count')\n",
    "    axes[1].legend()\n",
    "    axes[1].grid(True)\n",
    "\n",
    "    # Plot monthly data\n",
    "    axes[2].plot(data_month['start_date'], data_month['creates'], label='Creates', marker='.', linestyle='-')\n",
    "    axes[2].plot(data_month['start_date'], data_month['edits'], label='Edits', marker='.', linestyle='-')\n",
    "    axes[2].plot(data_month['start_date'], data_month['deletes'], label='Deletes', marker='.', linestyle='-')\n",
    "    axes[2].plot(data_month['start_date'], data_month['total'], label='Total', marker='.', linestyle='-')\n",
    "    axes[2].set_title(f'Monthly Changes in {country_name}, {place_name}')\n",
    "    axes[2].set_xlabel('Date')\n",
    "    axes[2].set_ylabel('Count')\n",
    "    axes[2].legend()\n",
    "    axes[2].grid(True)\n",
    "\n",
    "    # Adjust layout\n",
    "    plt.tight_layout()\n",
    "\n",
    "    # Save the plot\n",
    "    plt.savefig(f'../../Results/ChangeCounting/charts/{country_name}_{place_name}.png')\n",
    "    plt.show()\n",
    "    \n"
   ]
  },
  {
   "cell_type": "code",
   "execution_count": null,
   "metadata": {},
   "outputs": [
    {
     "ename": "NameError",
     "evalue": "name 'DB_Utils' is not defined",
     "output_type": "error",
     "traceback": [
      "\u001b[0;31m---------------------------------------------------------------------------\u001b[0m",
      "\u001b[0;31mNameError\u001b[0m                                 Traceback (most recent call last)",
      "Cell \u001b[0;32mIn[3], line 1\u001b[0m\n\u001b[0;32m----> 1\u001b[0m db_utils \u001b[38;5;241m=\u001b[39m \u001b[43mDB_Utils\u001b[49m()\n\u001b[1;32m      2\u001b[0m connection \u001b[38;5;241m=\u001b[39m db_utils\u001b[38;5;241m.\u001b[39mdb_connect()\n\u001b[1;32m      4\u001b[0m \u001b[38;5;28;01mfor\u001b[39;00m disaster_id \u001b[38;5;129;01min\u001b[39;00m \u001b[38;5;28mrange\u001b[39m(\u001b[38;5;241m1\u001b[39m,\u001b[38;5;241m7\u001b[39m):\n",
      "\u001b[0;31mNameError\u001b[0m: name 'DB_Utils' is not defined"
     ]
    }
   ],
   "source": [
    "start_time = datetime.now()\n",
    "db_utils = DB_Utils()\n",
    "connection = db_utils.db_connect()\n",
    "\n",
    "for disaster_id in range(1,7):\n",
    "    disaster_country, disaster_area, disaster_date = get_disaster_with_id(disaster_id, connection)\n",
    "    plot_counts(disaster_id, disaster_country, disaster_area)"
   ]
  }
 ],
 "metadata": {
  "kernelspec": {
   "display_name": ".venv",
   "language": "python",
   "name": "python3"
  },
  "language_info": {
   "codemirror_mode": {
    "name": "ipython",
    "version": 3
   },
   "file_extension": ".py",
   "mimetype": "text/x-python",
   "name": "python",
   "nbconvert_exporter": "python",
   "pygments_lexer": "ipython3",
   "version": "3.9.6"
  }
 },
 "nbformat": 4,
 "nbformat_minor": 2
}
